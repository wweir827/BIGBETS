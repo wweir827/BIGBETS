{
 "cells": [
  {
   "cell_type": "markdown",
   "metadata": {
    "toc": true
   },
   "source": [
    "<h1>Table of Contents<span class=\"tocSkip\"></span></h1>\n",
    "<div class=\"toc\"><ul class=\"toc-item\"><li><span><a href=\"#Imports\" data-toc-modified-id=\"Imports-1\"><span class=\"toc-item-num\">1&nbsp;&nbsp;</span>Imports</a></span></li><li><span><a href=\"#TCGA-Files\" data-toc-modified-id=\"TCGA-Files-2\"><span class=\"toc-item-num\">2&nbsp;&nbsp;</span>TCGA Files</a></span></li></ul></div>"
   ]
  },
  {
   "cell_type": "markdown",
   "metadata": {},
   "source": [
    "Use this notebook to download missing datasets that were too large to add to github.  Saves files in dependent locations.  URL's were tested December 2021."
   ]
  },
  {
   "cell_type": "markdown",
   "metadata": {},
   "source": [
    "# Imports "
   ]
  },
  {
   "cell_type": "code",
   "execution_count": 3,
   "metadata": {
    "ExecuteTime": {
     "end_time": "2021-12-08T18:01:28.346051Z",
     "start_time": "2021-12-08T18:01:07.015647Z"
    }
   },
   "outputs": [
    {
     "name": "stderr",
     "output_type": "stream",
     "text": [
      "2021-12-08 13:01:08,482:bigbets.ddr_data_object:INFO:Creating DDR Object\n"
     ]
    },
    {
     "name": "stdout",
     "output_type": "stream",
     "text": [
      "querying 1-72...done.\n",
      "Finished.\n",
      "1 input query terms found no hit:\n",
      "\t['SHFM1']\n",
      "querying 1-1...done.\n",
      "Finished.\n",
      "1 input query terms found dup hits:\n",
      "\t[('SHFM1', 10)]\n",
      "querying 1-276...done.\n",
      "Finished.\n",
      "12 input query terms found no hit:\n",
      "\t['APITD1', 'BRE', 'C17orf70', 'C19orf40', 'C1orf86', 'H2AFX', 'NDNL2', 'SHFM1', 'STRA13', 'TCEB1', '\n",
      "querying 1-12...done.\n",
      "Finished.\n",
      "5 input query terms found dup hits:\n",
      "\t[('APITD1', 2), ('BRE', 3), ('SHFM1', 10), ('STRA13', 2), ('TCEB3', 2)]\n"
     ]
    },
    {
     "name": "stderr",
     "output_type": "stream",
     "text": [
      "2021-12-08 13:01:16,452:bigbets.ddr_data_object:INFO:Loading Chromatin remodelling genes from GO\n"
     ]
    },
    {
     "name": "stdout",
     "output_type": "stream",
     "text": [
      "  EXISTS: go-basic.obo\n",
      "  EXISTS: gene2go\n",
      "HMS:0:00:04.970465 335,439 annotations READ: gene2go \n",
      "1 taxids stored: 9606\n",
      "12453 IDs in association branch, BP\n",
      "12453 GO terms associated with human NCBI Entrez GeneIDs\n",
      "go-basic.obo: fmt(1.2) rel(2021-11-16) 47,155 GO Terms; optional_attrs(comment def relationship synonym xref)\n",
      "querying 1-270...done.\n",
      "Finished.\n"
     ]
    },
    {
     "name": "stderr",
     "output_type": "stream",
     "text": [
      "/opt/local/Library/Frameworks/Python.framework/Versions/3.6/lib/python3.6/site-packages/biothings_client/base.py:129: FutureWarning: pandas.io.json.json_normalize is deprecated, use pandas.json_normalize instead\n",
      "  df = json_normalize(obj)\n",
      "/opt/local/Library/Frameworks/Python.framework/Versions/3.6/lib/python3.6/site-packages/statsmodels/tools/_testing.py:19: FutureWarning: pandas.util.testing is deprecated. Use the functions in the public API at pandas.testing instead.\n",
      "  import pandas.util.testing as tm\n"
     ]
    }
   ],
   "source": [
    "import sys\n",
    "import urllib.request\n",
    "sys.path.insert(0,'..')\n",
    "import bigbets\n"
   ]
  },
  {
   "cell_type": "markdown",
   "metadata": {},
   "source": [
    "# TCGA Files "
   ]
  },
  {
   "cell_type": "code",
   "execution_count": 6,
   "metadata": {
    "ExecuteTime": {
     "end_time": "2021-12-08T18:05:56.389595Z",
     "start_time": "2021-12-08T18:05:56.385046Z"
    }
   },
   "outputs": [],
   "source": [
    "#MC3 Mutations call for TCGA\n",
    "tcga_dir=bigbets.file_locations.tcga_dir\n",
    "mc3url='http://api.gdc.cancer.gov/data/1c8cfe5f-e52d-41ba-94da-f15ea1337efc'\n",
    "mc3filename='mc3.v0.2.8.PUBLIC.maf.gz'\n",
    "urllib.request.urlretrieve(mc3url,os.path.join(tcga_dir,mc3filename))"
   ]
  },
  {
   "cell_type": "code",
   "execution_count": null,
   "metadata": {},
   "outputs": [],
   "source": [
    "#RNAseq files\n",
    "rnaurl='http://api.gdc.cancer.gov/data/3586c0da-64d0-4b74-a449-5ff4d9136611'\n",
    "rnanfilename='EBPlusPlusAdjustPANCAN_IlluminaHiSeq_RNASeqV2.geneExp.tsv'\n",
    "urllib.request.urlretrieve(rnaurl,os.path.join(tcga_dir,rnanfilename))"
   ]
  },
  {
   "cell_type": "code",
   "execution_count": null,
   "metadata": {},
   "outputs": [],
   "source": [
    "#CN Variants\n",
    "CNgisticurl='https://api.gdc.cancer.gov/data/7d64377f-2cea-4ee3-917f-8fcfbcd999e7'\n",
    "CNgisticfilename='all_thresholded.by_genes_whitelisted.tsv'\n",
    "urllib.request.urlretrieve(CNgisticurl,os.path.join(tcga_dir,mc3filename))"
   ]
  }
 ],
 "metadata": {
  "kernelspec": {
   "display_name": "Python 3",
   "language": "python",
   "name": "python3"
  },
  "language_info": {
   "codemirror_mode": {
    "name": "ipython",
    "version": 3
   },
   "file_extension": ".py",
   "mimetype": "text/x-python",
   "name": "python",
   "nbconvert_exporter": "python",
   "pygments_lexer": "ipython3",
   "version": "3.6.8"
  },
  "latex_envs": {
   "LaTeX_envs_menu_present": true,
   "autoclose": false,
   "autocomplete": false,
   "bibliofile": "biblio.bib",
   "cite_by": "apalike",
   "current_citInitial": 1,
   "eqLabelWithNumbers": true,
   "eqNumInitial": 1,
   "hotkeys": {
    "equation": ""
   },
   "labels_anchors": false,
   "latex_user_defs": false,
   "report_style_numbering": false,
   "user_envs_cfg": false
  },
  "toc": {
   "base_numbering": 1,
   "nav_menu": {},
   "number_sections": true,
   "sideBar": true,
   "skip_h1_title": false,
   "title_cell": "Table of Contents",
   "title_sidebar": "Contents",
   "toc_cell": true,
   "toc_position": {},
   "toc_section_display": true,
   "toc_window_display": true
  }
 },
 "nbformat": 4,
 "nbformat_minor": 4
}
