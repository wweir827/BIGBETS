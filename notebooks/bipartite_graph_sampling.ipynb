{
 "cells": [
  {
   "cell_type": "markdown",
   "metadata": {
    "toc": true
   },
   "source": [
    "<h1>Table of Contents<span class=\"tocSkip\"></span></h1>\n",
    "<div class=\"toc\"><ul class=\"toc-item\"><li><span><a href=\"#Imports\" data-toc-modified-id=\"Imports-1\"><span class=\"toc-item-num\">1&nbsp;&nbsp;</span>Imports</a></span></li><li><span><a href=\"#Sample-Bipartite-Networks\" data-toc-modified-id=\"Sample-Bipartite-Networks-2\"><span class=\"toc-item-num\">2&nbsp;&nbsp;</span>Sample Bipartite Networks</a></span><ul class=\"toc-item\"><li><span><a href=\"#TCGA\" data-toc-modified-id=\"TCGA-2.1\"><span class=\"toc-item-num\">2.1&nbsp;&nbsp;</span>TCGA</a></span><ul class=\"toc-item\"><li><span><a href=\"#high-impact-mutations\" data-toc-modified-id=\"high-impact-mutations-2.1.1\"><span class=\"toc-item-num\">2.1.1&nbsp;&nbsp;</span>high impact mutations</a></span></li><li><span><a href=\"#high-+-moderate-impact-mutations\" data-toc-modified-id=\"high-+-moderate-impact-mutations-2.1.2\"><span class=\"toc-item-num\">2.1.2&nbsp;&nbsp;</span>high + moderate impact mutations</a></span></li><li><span><a href=\"#TCGA-filtered-to-subtypes-represented-in-Samstein\" data-toc-modified-id=\"TCGA-filtered-to-subtypes-represented-in-Samstein-2.1.3\"><span class=\"toc-item-num\">2.1.3&nbsp;&nbsp;</span>TCGA filtered to subtypes represented in Samstein</a></span></li></ul></li><li><span><a href=\"#Samstein\" data-toc-modified-id=\"Samstein-2.2\"><span class=\"toc-item-num\">2.2&nbsp;&nbsp;</span>Samstein</a></span></li></ul></li></ul></div>"
   ]
  },
  {
   "cell_type": "markdown",
   "metadata": {},
   "source": [
    "# Imports"
   ]
  },
  {
   "cell_type": "code",
   "execution_count": 1,
   "metadata": {
    "ExecuteTime": {
     "end_time": "2021-12-18T17:48:34.376518Z",
     "start_time": "2021-12-18T17:48:15.196939Z"
    }
   },
   "outputs": [
    {
     "name": "stderr",
     "output_type": "stream",
     "text": [
      "/opt/local/Library/Frameworks/Python.framework/Versions/3.6/lib/python3.6/site-packages/statsmodels/tools/_testing.py:19: FutureWarning: pandas.util.testing is deprecated. Use the functions in the public API at pandas.testing instead.\n",
      "  import pandas.util.testing as tm\n",
      "2021-12-18 12:48:17,671:bigbets.ddr_data_object:INFO:Creating DDR Object\n"
     ]
    },
    {
     "name": "stdout",
     "output_type": "stream",
     "text": [
      "querying 1-72...done.\n",
      "Finished.\n",
      "1 input query terms found no hit:\n",
      "\t['SHFM1']\n",
      "querying 1-1...done.\n",
      "Finished.\n",
      "1 input query terms found dup hits:\n",
      "\t[('SHFM1', 10)]\n",
      "querying 1-276...done.\n",
      "Finished.\n",
      "12 input query terms found no hit:\n",
      "\t['APITD1', 'BRE', 'C17orf70', 'C19orf40', 'C1orf86', 'H2AFX', 'NDNL2', 'SHFM1', 'STRA13', 'TCEB1', '\n",
      "querying 1-12...done.\n",
      "Finished.\n",
      "5 input query terms found dup hits:\n",
      "\t[('APITD1', 2), ('BRE', 3), ('SHFM1', 10), ('STRA13', 2), ('TCEB3', 2)]\n"
     ]
    },
    {
     "name": "stderr",
     "output_type": "stream",
     "text": [
      "2021-12-18 12:48:24,382:bigbets.ddr_data_object:INFO:Loading Chromatin remodelling genes from GO\n"
     ]
    },
    {
     "name": "stdout",
     "output_type": "stream",
     "text": [
      "  EXISTS: go-basic.obo\n",
      "  EXISTS: gene2go\n",
      "HMS:0:00:04.623708 335,439 annotations READ: gene2go \n",
      "1 taxids stored: 9606\n",
      "12453 IDs in association branch, BP\n",
      "12453 GO terms associated with human NCBI Entrez GeneIDs\n",
      "go-basic.obo: fmt(1.2) rel(2021-11-16) 47,155 GO Terms; optional_attrs(comment def relationship synonym xref)\n",
      "querying 1-267...done.\n",
      "Finished.\n"
     ]
    },
    {
     "name": "stderr",
     "output_type": "stream",
     "text": [
      "/opt/local/Library/Frameworks/Python.framework/Versions/3.6/lib/python3.6/site-packages/biothings_client/base.py:129: FutureWarning: pandas.io.json.json_normalize is deprecated, use pandas.json_normalize instead\n",
      "  df = json_normalize(obj)\n"
     ]
    }
   ],
   "source": [
    "import sys,os,re\n",
    "import gzip,pickle\n",
    "import numpy as np\n",
    "import pandas as pd\n",
    "import matplotlib.pyplot as plt\n",
    "import scipy.sparse as sparse\n",
    "import scipy.stats as stats\n",
    "import statsmodels.api as sm\n",
    "sys.path.insert(0,'..')\n",
    "import bigbets"
   ]
  },
  {
   "cell_type": "code",
   "execution_count": 2,
   "metadata": {
    "ExecuteTime": {
     "end_time": "2021-12-18T17:48:34.385423Z",
     "start_time": "2021-12-18T17:48:34.379133Z"
    }
   },
   "outputs": [],
   "source": [
    "def compile_all_runs(runs_dir):\n",
    "    # load individual runs\n",
    "    data_files=[ os.path.join(runs_dir,f) for f in os.listdir(runs_dir) if re.search(\"genes.pickle\",f)]\n",
    "\n",
    "    #we keep only keep track of the mean tmb for each gene and each sample across all runs\n",
    "    combined_mean_tmbs={}\n",
    "    data_files\n",
    "#     genes2use=spec_by_genes_df.columns\n",
    "    for i,file in enumerate(data_files):\n",
    "        print(i)\n",
    "        with gzip.open(file,'rb') as fh:\n",
    "            cdata=pickle.load(fh)\n",
    "        for ii,gene in enumerate(cdata.keys()):\n",
    "            if ii%1000==0:\n",
    "                print(ii,end=', ')\n",
    "\n",
    "            all_x,all_ecdf=cdata.loc[gene]\n",
    "            all_x=np.array(all_x)\n",
    "            med_tmbs=np.mean(np.array(all_x),axis=1)\n",
    "            combined_mean_tmbs[gene]=np.append(combined_mean_tmbs.get(gene,np.array([])),med_tmbs)\n",
    "        del cdata\n",
    "        print()\n",
    "    return combined_mean_tmbs\n",
    "    "
   ]
  },
  {
   "cell_type": "code",
   "execution_count": 16,
   "metadata": {
    "ExecuteTime": {
     "end_time": "2021-12-22T00:21:07.492764Z",
     "start_time": "2021-12-22T00:21:07.380701Z"
    }
   },
   "outputs": [],
   "source": [
    "def calculate_bigbet_scores_dataframe(combined_mean_tmbs,spec_by_genes_df,snv_indel_df):\n",
    "    #means from network reshuffling\n",
    "    means_rewiring_df=pd.DataFrame()\n",
    "\n",
    "    genes2use=spec_by_genes_df.columns\n",
    "    samples=spec_by_genes_df.index\n",
    "    gene_sizes=np.sum(spec_by_genes_df,axis=0)\n",
    "\n",
    "\n",
    "    for i,gene in enumerate(genes2use):\n",
    "        if i%1000==0:\n",
    "             print(i,end=', ')\n",
    "         \n",
    "        means_rewiring_df.loc[gene,'gene_mut_cnt']=gene_sizes[gene]\n",
    "\n",
    "        try:\n",
    "            med_tmbs=combined_mean_tmbs[gene]\n",
    "        except KeyError:\n",
    "            continue\n",
    "        obs_tmb=np.mean(np.log1p(snv_indel_df.loc[samples[np.nonzero(spec_by_genes_df.loc[:,gene].values)[0]],'tmb'].dropna()))\n",
    "        means_rewiring_df.loc[gene,'gene_mut_cnt']=gene_sizes[gene]\n",
    "        cmn=np.mean(med_tmbs)\n",
    "        cstd=np.std(med_tmbs)\n",
    "        means_rewiring_df.loc[gene,'obs_tmb']=obs_tmb\n",
    "        means_rewiring_df.loc[gene,'mean']=cmn\n",
    "        means_rewiring_df.loc[gene,'std']=cstd\n",
    "        means_rewiring_df.loc[gene,'upper']=cmn+1.96*cstd\n",
    "        means_rewiring_df.loc[gene,'lower']=cmn-1.96*cstd\n",
    "        med_tmbs = np.append(med_tmbs,obs_tmb)\n",
    "        means_rewiring_df.loc[gene,'bigbets']=stats.mstats.zscore(a=med_tmbs)[-1]\n",
    "        \n",
    "        mwu,pval=bigbets.bipartite_helper_functions.cal_mwu_pval([gene],\n",
    "                                                        spec_by_genes_df,snv_indel_df,\n",
    "                                                        outgroup=spec_by_genes_df.index) #just use all samples outgroup for comaprison here.\n",
    "        \n",
    "        means_rewiring_df.loc[gene,'mwu_U']=mwu\n",
    "        means_rewiring_df.loc[gene,'mwu_pval']=pval\n",
    "        \n",
    "    means_rewiring_df['path']=list(map(lambda x: bigbets.ddr_data_object.myddr_obj.gene_2_path_dict.get(x,['None'])[0],means_rewiring_df.index))\n",
    "    \n",
    "    \n",
    "    means_rewiring_df['pval_bigbets'] = stats.norm.sf(abs(means_rewiring_df['bigbets'])) #one-sided\n",
    "    pvals=means_rewiring_df['pval_bigbets']\n",
    "    means_rewiring_df['padj_bigbets']=np.nan\n",
    "    ind2keep=np.where(~np.isnan(pvals))[0]\n",
    "    is_sig,padj_nona,_,_ = sm.stats.multipletests(alpha=.05,pvals=pvals[ind2keep],method='fdr_bh')\n",
    "    means_rewiring_df.loc[means_rewiring_df.index[ind2keep],'padj_bigbets']=padj_nona\n",
    "    means_rewiring_df.loc[means_rewiring_df.index[ind2keep],'bigbets_sig']=is_sig\n",
    "\n",
    "    pvals=means_rewiring_df['mwu_pval']\n",
    "    means_rewiring_df['mwu_padj']=np.nan\n",
    "    ind2keep=np.where(~np.isnan(pvals))[0]\n",
    "    is_sig,padj_nona,_,_ = sm.stats.multipletests(alpha=.05,pvals=pvals[ind2keep],method='fdr_bh')\n",
    "    means_rewiring_df.loc[means_rewiring_df.index[ind2keep],'mwu_padj']=padj_nona\n",
    "    means_rewiring_df.loc[means_rewiring_df.index[ind2keep],'mwu_sig']=is_sig\n",
    "\n",
    "    means_rewiring_df['-log10_padj']=-1*np.log10(means_rewiring_df['mwu_padj'])\n",
    "    \n",
    "    return means_rewiring_df\n"
   ]
  },
  {
   "cell_type": "markdown",
   "metadata": {},
   "source": [
    "# Sample Bipartite Networks"
   ]
  },
  {
   "cell_type": "code",
   "execution_count": null,
   "metadata": {},
   "outputs": [],
   "source": []
  },
  {
   "cell_type": "markdown",
   "metadata": {
    "ExecuteTime": {
     "end_time": "2021-12-07T14:04:22.079582Z",
     "start_time": "2021-12-07T14:04:22.076345Z"
    }
   },
   "source": [
    "## TCGA"
   ]
  },
  {
   "cell_type": "code",
   "execution_count": 4,
   "metadata": {
    "ExecuteTime": {
     "end_time": "2021-12-18T17:50:29.220745Z",
     "start_time": "2021-12-18T17:48:34.405472Z"
    }
   },
   "outputs": [
    {
     "name": "stderr",
     "output_type": "stream",
     "text": [
      "2021-12-18 12:48:34,408:bigbets.load_tcga_dataset:INFO:Loading TCGA dataset\n",
      "/opt/local/Library/Frameworks/Python.framework/Versions/3.6/lib/python3.6/site-packages/ipykernel_launcher.py:1: DtypeWarning: Columns (4) have mixed types.Specify dtype option on import or set low_memory=False.\n",
      "  \"\"\"Entry point for launching an IPython kernel.\n",
      "2021-12-18 12:49:45,141:bigbets.load_tcga_dataset:INFO:alteration_data_tcga.shape: (3600963, 25)\n",
      "2021-12-18 12:50:03,752:bigbets.load_tcga_dataset:INFO:Filtering TCGA Dataset\n"
     ]
    },
    {
     "name": "stdout",
     "output_type": "stream",
     "text": [
      "tcga_alt_filt.shape (208682, 28)\n",
      "querying 1-274...done.\n",
      "Finished.\n",
      "12 input query terms found no hit:\n",
      "\t['C1orf86', 'APITD1', 'TCEB3', 'BRE', 'SHFM1', 'TCEB1', 'H2AFX', 'NDNL2', 'TCEB2', 'C17orf70', 'STRA\n",
      "querying 1-12...done.\n",
      "Finished.\n",
      "5 input query terms found dup hits:\n",
      "\t[('APITD1', 2), ('TCEB3', 2), ('BRE', 3), ('SHFM1', 10), ('STRA13', 2)]\n"
     ]
    }
   ],
   "source": [
    "tcga_data=bigbets.TCGA_Data()\n",
    "data_array=tcga_data.tcga_spec_by_all_genes\n",
    "\n",
    "samples=data_array.index.values\n",
    "features=data_array.columns.values\n",
    "data_array=sparse.lil_matrix(data_array.values)\n",
    "\n",
    "data_array_wmod=tcga_data.tcga_spec_by_all_genes_wmod\n",
    "#overlap between two sets. \n",
    "data_array_wmod=data_array_wmod.loc[samples,features]\n",
    "\n",
    "samples_wmod=data_array_wmod.index.values\n",
    "features_wmod=data_array_wmod.columns.values\n",
    "data_array_wmod=sparse.lil_matrix(data_array_wmod.values)\n",
    "\n",
    "tcga_snv_indel_df=tcga_data.tcga_snv_indel_df\n",
    "path_2_genes=bigbets.ddr_data_object.myddr_obj.path_2_genes_dict\n",
    "gene_2_path_dict=bigbets.ddr_data_object.myddr_obj.gene_2_path_dict\n",
    "\n"
   ]
  },
  {
   "cell_type": "markdown",
   "metadata": {},
   "source": [
    "### high impact mutations"
   ]
  },
  {
   "cell_type": "code",
   "execution_count": 14,
   "metadata": {
    "ExecuteTime": {
     "end_time": "2021-12-08T14:47:00.995241Z",
     "start_time": "2021-12-08T14:47:00.987226Z"
    }
   },
   "outputs": [],
   "source": [
    "bipartite_samples_dir=bigbets.file_locations.bipartite_samples_dir\n",
    "high_impact_samples_dir=os.path.join(bipartite_samples_dir,'sampled_data/tcga_all_genes_high')\n",
    "runs_300=os.path.join(high_impact_samples_dir,\"smaller_runs_300\")"
   ]
  },
  {
   "cell_type": "code",
   "execution_count": null,
   "metadata": {},
   "outputs": [],
   "source": [
    "#Code below runs the bipartite network sampling.  Was executed on desktop with 8 cores running. \n",
    "#run parallel chains in smaller chunks and save output as we go. \n",
    "#define function\n",
    "\n",
    "def get_tmb_dist_tcga(mat,samples,features):\n",
    "    return bigbets.get_tmb_dist_both_path_and_genes(mat,samples,features,\n",
    "                                                       tcga_snv_indel_df, path_2_genes)\n",
    "\n",
    "tot_edges=np.sum(np.sum(data_array))\n",
    "print(tot_edges)\n",
    "samplesperrun=300\n",
    "\n",
    "\n",
    "prefix='tgca_all_high_wpolyphen_{:d}_{:d}'\n",
    "for i in range(20):\n",
    "    print(\"on loop \",i)\n",
    "    parallel_rewire=bigbets.ParallelRewiringChains(array=data_array,samples=samples,\n",
    "                                                      features=features,\n",
    "                                                      burninwires=300000,\n",
    "                                                      nrewires_per_sample=300000,\n",
    "                                                      func2call=get_tmb_dist_tcga,\n",
    "                                                      nprocesses=8,nsamples=samplesperrun)\n",
    "    parallel_rewire.run_allchains()\n",
    "    data_path=bigbets.bipartite_helper_functions.compile_all_runs(pd.DataFrame({ k: val['paths'] for k,val in parallel_rewire.all_res.items()}))\n",
    "    data_genes=bigbets.bipartite_helper_functions.compile_all_runs(pd.DataFrame({ k: val['genes'] for k,val in parallel_rewire.all_res.items()}))\n",
    "\n",
    "    variables_2_save=['data_path','data_genes']\n",
    "\n",
    "    if not os.path.exists(runs_300):\n",
    "        os.makedirs(runs_300)\n",
    "  \n",
    "    for var in variables_2_save:\n",
    "        outfile=os.path.join(runs_300,prefix.format(samplesperrun,i)+var+\".pickle\")\n",
    "        with gzip.open(outfile,'wb') as fh:\n",
    "            pickle.dump(globals()[var],fh)\n",
    "\n",
    "    del parallel_rewire\n",
    "    del data_genes\n",
    "    del data_path"
   ]
  },
  {
   "cell_type": "code",
   "execution_count": 15,
   "metadata": {
    "ExecuteTime": {
     "end_time": "2021-12-08T14:50:33.850415Z",
     "start_time": "2021-12-08T14:47:00.998267Z"
    }
   },
   "outputs": [
    {
     "name": "stdout",
     "output_type": "stream",
     "text": [
      "0\n",
      "0, 1000, 2000, 3000, 4000, 5000, 6000, 7000, 8000, 9000, 10000, 11000, 12000, 13000, 14000, 15000, 16000, 17000, 18000, \n",
      "1\n",
      "0, 1000, 2000, 3000, 4000, 5000, 6000, 7000, 8000, 9000, 10000, 11000, 12000, 13000, 14000, 15000, 16000, 17000, 18000, \n",
      "2\n",
      "0, 1000, 2000, 3000, 4000, 5000, 6000, 7000, 8000, 9000, 10000, 11000, 12000, 13000, 14000, 15000, 16000, 17000, 18000, \n",
      "3\n",
      "0, 1000, 2000, 3000, 4000, 5000, 6000, 7000, 8000, 9000, 10000, 11000, 12000, 13000, 14000, 15000, 16000, 17000, 18000, \n",
      "4\n",
      "0, 1000, 2000, 3000, 4000, 5000, 6000, 7000, 8000, 9000, 10000, 11000, 12000, 13000, 14000, 15000, 16000, 17000, 18000, \n",
      "5\n",
      "0, 1000, 2000, 3000, 4000, 5000, 6000, 7000, 8000, 9000, 10000, 11000, 12000, 13000, 14000, 15000, 16000, 17000, 18000, \n"
     ]
    }
   ],
   "source": [
    "combined_med_tmb=compile_all_runs(runs_300)\n"
   ]
  },
  {
   "cell_type": "code",
   "execution_count": 73,
   "metadata": {
    "ExecuteTime": {
     "end_time": "2021-12-08T15:54:31.723010Z",
     "start_time": "2021-12-08T15:51:21.347725Z"
    },
    "scrolled": true
   },
   "outputs": [
    {
     "name": "stdout",
     "output_type": "stream",
     "text": [
      "0, 1000, 2000, 3000, 4000, 5000, 6000, 7000, 8000, 9000, 10000, 11000, 12000, 13000, 14000, 15000, 16000, 17000, 18000, "
     ]
    },
    {
     "name": "stderr",
     "output_type": "stream",
     "text": [
      "/opt/local/Library/Frameworks/Python.framework/Versions/3.6/lib/python3.6/site-packages/scipy/stats/_distn_infrastructure.py:901: RuntimeWarning: invalid value encountered in greater\n",
      "  return (a < x) & (x < b)\n",
      "/opt/local/Library/Frameworks/Python.framework/Versions/3.6/lib/python3.6/site-packages/scipy/stats/_distn_infrastructure.py:901: RuntimeWarning: invalid value encountered in less\n",
      "  return (a < x) & (x < b)\n",
      "/opt/local/Library/Frameworks/Python.framework/Versions/3.6/lib/python3.6/site-packages/scipy/stats/_distn_infrastructure.py:1892: RuntimeWarning: invalid value encountered in less_equal\n",
      "  cond2 = cond0 & (x <= _a)\n"
     ]
    }
   ],
   "source": [
    "means_rewiring_df=calculate_bigbet_scores_dataframe(combined_med_tmb,tcga_data.tcga_spec_by_all_genes,\n",
    "                                                   tcga_data.tcga_snv_indel_df)\n",
    "\n",
    "means_rewiring_df.to_csv(bigbets.file_locations.bigbet_scores_file)"
   ]
  },
  {
   "cell_type": "code",
   "execution_count": null,
   "metadata": {
    "ExecuteTime": {
     "end_time": "2021-12-08T15:54:57.670675Z",
     "start_time": "2021-12-08T15:54:57.660069Z"
    }
   },
   "outputs": [],
   "source": []
  },
  {
   "cell_type": "code",
   "execution_count": 67,
   "metadata": {
    "ExecuteTime": {
     "end_time": "2021-12-08T15:38:56.182491Z",
     "start_time": "2021-12-08T15:38:56.170295Z"
    }
   },
   "outputs": [
    {
     "data": {
      "text/plain": [
       "A1BG       0.497018\n",
       "A1CF       0.421165\n",
       "A2M        0.487801\n",
       "A2ML1      0.447747\n",
       "A3GALT2    0.432418\n",
       "             ...   \n",
       "ZYG11A     0.441789\n",
       "ZYG11B     0.436350\n",
       "ZYX        0.473169\n",
       "ZZEF1      0.491924\n",
       "ZZZ3       0.467381\n",
       "Name: padj_bigbets, Length: 18224, dtype: float64"
      ]
     },
     "execution_count": 67,
     "metadata": {},
     "output_type": "execute_result"
    }
   ],
   "source": []
  },
  {
   "cell_type": "code",
   "execution_count": 53,
   "metadata": {
    "ExecuteTime": {
     "end_time": "2021-12-08T15:30:40.694807Z",
     "start_time": "2021-12-08T15:30:40.671055Z"
    }
   },
   "outputs": [
    {
     "data": {
      "text/plain": [
       "A1BG      NaN\n",
       "A1CF      NaN\n",
       "A2M       NaN\n",
       "A2ML1     NaN\n",
       "A3GALT2   NaN\n",
       "           ..\n",
       "ZYG11A    NaN\n",
       "ZYG11B    NaN\n",
       "ZYX       NaN\n",
       "ZZEF1     NaN\n",
       "ZZZ3      NaN\n",
       "Name: padj_bigbets, Length: 18224, dtype: float64"
      ]
     },
     "execution_count": 53,
     "metadata": {},
     "output_type": "execute_result"
    }
   ],
   "source": [
    "_,means_rewiring_df['padj_bigbets'],_,_ = sm.stats.multipletests(alpha=.05,pvals=means_rewiring_df['pval_bigbets'],method='fdr_bh')\n",
    "means_rewiring_df['padj_bigbets']"
   ]
  },
  {
   "cell_type": "code",
   "execution_count": 48,
   "metadata": {
    "ExecuteTime": {
     "end_time": "2021-12-08T15:12:22.593683Z",
     "start_time": "2021-12-08T15:12:22.567972Z"
    }
   },
   "outputs": [
    {
     "data": {
      "text/plain": [
       "1.0"
      ]
     },
     "execution_count": 48,
     "metadata": {},
     "output_type": "execute_result"
    }
   ],
   "source": [
    "sampled_sizes=np.sum(tcga_data.tcga_spec_by_all_genes,axis=0)\n",
    "#check that the sizes are all the same here\n",
    "# data_files=[ os.path.join(runs_300,f) for f in os.listdir(runs_300) if re.search(\"genes.pickle\",f)]\n",
    "# combined_sizes={}\n",
    "# data_files\n",
    "# for i,file in enumerate(data_files):\n",
    "#     with gzip.open(file,'rb') as fh:\n",
    "#         cdata=pickle.load(fh)\n",
    "#     for ii,gene in enumerate(cdata.keys()):\n",
    "#         if ii%1000==0:\n",
    "#             print(ii,end=', ')\n",
    "#         all_x,all_ecdf=cdata.loc[gene]\n",
    "#         all_x=np.array(all_x)\n",
    "#         combined_sizes[gene]=all_x.shape[1]\n",
    "#     break\n",
    "\n",
    "# np.mean(sampled_sizes.values==means_rewiring_df.loc[sampled_sizes.index,'gene_mut_cnt'].values)"
   ]
  },
  {
   "cell_type": "code",
   "execution_count": null,
   "metadata": {},
   "outputs": [],
   "source": [
    "# compile and save data\n"
   ]
  },
  {
   "cell_type": "markdown",
   "metadata": {},
   "source": [
    "### high + moderate impact mutations"
   ]
  },
  {
   "cell_type": "code",
   "execution_count": 17,
   "metadata": {
    "ExecuteTime": {
     "end_time": "2021-12-22T00:21:11.201320Z",
     "start_time": "2021-12-22T00:21:11.166512Z"
    }
   },
   "outputs": [],
   "source": [
    "bipartite_samples_dir=bigbets.file_locations.bipartite_samples_dir\n",
    "mod_impact_samples_dir=os.path.join(bipartite_samples_dir,'sampled_data/tcga_all_genes_moderate_high')\n",
    "mod_runs_300=os.path.join(mod_impact_samples_dir,\"smaller_runs_300\")\n",
    "if not os.path.exists(mod_runs_300):\n",
    "    os.makedirs(mod_runs_300)"
   ]
  },
  {
   "cell_type": "code",
   "execution_count": null,
   "metadata": {},
   "outputs": [],
   "source": [
    "#Code below runs the bipartite network sampling.  Was executed on desktop with 8 cores running. \n",
    "#run parallel chains in smaller chunks and save output as we go. \n",
    "#define function\n",
    "\n",
    "def get_tmb_dist_tcga(mat,samples,features):\n",
    "    return bigbets.get_tmb_dist_both_path_and_genes(mat,samples,features,\n",
    "                                                       tcga_snv_indel_df, path_2_genes)\n",
    "\n",
    "tot_edges=np.sum(np.sum(data_array))\n",
    "print(tot_edges)\n",
    "samplesperrun=300\n",
    "\n",
    "\n",
    "prefix='tgca_all_high_moderate_wpolyphen_{:d}_{:d}'\n",
    "for i in range(2):\n",
    "    print(\"on loop \",i)\n",
    "    parallel_rewire=bigbets.ParallelRewiringChains(array=data_array_wmod,samples=samples_wmod,\n",
    "                                                  features=features_wmod,\n",
    "                                                  burninwires=3000000,\n",
    "                                                  nrewires_per_sample=3000000,\n",
    "                                                  func2call=get_tmb_dist_tcga,\n",
    "                                                  nprocesses=4,nsamples=200)\n",
    "    parallel_rewire.run_allchains()\n",
    "    data_path=bigbets.bipartite_helper_functions.compile_all_runs(pd.DataFrame({ k: val['paths'] for k,val in parallel_rewire.all_res.items()}))\n",
    "    data_genes=bigbets.bipartite_helper_functions.compile_all_runs(pd.DataFrame({ k: val['genes'] for k,val in parallel_rewire.all_res.items()}))\n",
    "\n",
    "    variables_2_save=['data_path','data_genes']\n",
    "\n",
    "    if not os.path.exists(runs_300):\n",
    "        os.makedirs(runs_300)\n",
    "  \n",
    "    for var in variables_2_save:\n",
    "        outfile=os.path.join(mod_runs_300,prefix.format(samplesperrun,i)+var+\".pickle\")\n",
    "        with gzip.open(outfile,'wb') as fh:\n",
    "            pickle.dump(globals()[var],fh)\n",
    "\n",
    "    del parallel_rewire\n",
    "    del data_genes\n",
    "    del data_path"
   ]
  },
  {
   "cell_type": "code",
   "execution_count": 18,
   "metadata": {
    "ExecuteTime": {
     "end_time": "2021-12-22T00:25:15.112987Z",
     "start_time": "2021-12-22T00:21:18.220267Z"
    }
   },
   "outputs": [
    {
     "name": "stdout",
     "output_type": "stream",
     "text": [
      "0\n",
      "0, 1000, 2000, 3000, 4000, 5000, 6000, 7000, 8000, 9000, 10000, 11000, 12000, 13000, 14000, 15000, 16000, 17000, 18000, \n",
      "1\n",
      "0, 1000, 2000, 3000, 4000, 5000, 6000, 7000, 8000, 9000, 10000, 11000, 12000, 13000, 14000, 15000, 16000, 17000, 18000, \n"
     ]
    }
   ],
   "source": [
    "combined_med_tmb=compile_all_runs(mod_runs_300)\n"
   ]
  },
  {
   "cell_type": "code",
   "execution_count": 19,
   "metadata": {
    "ExecuteTime": {
     "end_time": "2021-12-22T00:28:30.130942Z",
     "start_time": "2021-12-22T00:25:15.127399Z"
    }
   },
   "outputs": [
    {
     "name": "stdout",
     "output_type": "stream",
     "text": [
      "0, 1000, 2000, 3000, 4000, 5000, 6000, 7000, 8000, 9000, 10000, 11000, 12000, 13000, 14000, 15000, 16000, 17000, 18000, 19000, "
     ]
    },
    {
     "name": "stderr",
     "output_type": "stream",
     "text": [
      "/opt/local/Library/Frameworks/Python.framework/Versions/3.6/lib/python3.6/site-packages/scipy/stats/_distn_infrastructure.py:901: RuntimeWarning: invalid value encountered in greater\n",
      "  return (a < x) & (x < b)\n",
      "/opt/local/Library/Frameworks/Python.framework/Versions/3.6/lib/python3.6/site-packages/scipy/stats/_distn_infrastructure.py:901: RuntimeWarning: invalid value encountered in less\n",
      "  return (a < x) & (x < b)\n",
      "/opt/local/Library/Frameworks/Python.framework/Versions/3.6/lib/python3.6/site-packages/scipy/stats/_distn_infrastructure.py:1892: RuntimeWarning: invalid value encountered in less_equal\n",
      "  cond2 = cond0 & (x <= _a)\n",
      "/opt/local/Library/Frameworks/Python.framework/Versions/3.6/lib/python3.6/site-packages/pandas/core/series.py:726: RuntimeWarning: divide by zero encountered in log10\n",
      "  result = getattr(ufunc, method)(*inputs, **kwargs)\n"
     ]
    }
   ],
   "source": [
    "means_rewiring_df=calculate_bigbet_scores_dataframe(combined_med_tmb,tcga_data.tcga_spec_by_all_genes_wmod,\n",
    "                                                   tcga_data.tcga_snv_indel_df)\n",
    "\n",
    "means_rewiring_df.to_csv(bigbets.file_locations.bigbet_moderate_included_scores_file)"
   ]
  },
  {
   "cell_type": "code",
   "execution_count": 20,
   "metadata": {
    "ExecuteTime": {
     "end_time": "2021-12-22T00:28:33.262272Z",
     "start_time": "2021-12-22T00:28:30.134143Z"
    }
   },
   "outputs": [
    {
     "name": "stdout",
     "output_type": "stream",
     "text": [
      "0\n",
      "BER, NER, MMR, FA, HR, NHEJ, DS, histone_modification_pathway, chromatin_remodel, \n",
      "1\n",
      "BER, NER, MMR, FA, HR, NHEJ, DS, histone_modification_pathway, chromatin_remodel, \n"
     ]
    }
   ],
   "source": [
    "# combined pathway level individual runs\n",
    "combined_path_data={}\n",
    "\n",
    "# load individual runs\n",
    "data_files_path=[ os.path.join(mod_runs_300,f) for f in os.listdir(mod_runs_300) if re.search(\"path.pickle\",f)]\n",
    "\n",
    "#we keep track of the mean tmb for each gene and each sample across all runs\n",
    "combined_cdfs_tmbs={}\n",
    "combined_mean_tmbs={}\n",
    "# ind2keep=drop_leading_inds(200,8,20)\n",
    "for i,file in enumerate(data_files_path):\n",
    "    print(i)\n",
    "    with gzip.open(file,'rb') as fh:\n",
    "        cdata=pickle.load(fh)\n",
    "    for path in cdata.keys():\n",
    "        print(path,end=', ')\n",
    "        all_x,all_ecdf=cdata.loc[path]\n",
    "        cmean_tmbs=[np.mean(x) for x in all_x] \n",
    "        combined_mean_tmbs[path]=combined_mean_tmbs.get(path,[])+cmean_tmbs\n",
    "        if i==0:\n",
    "            combined_cdfs_tmbs[path]=(np.array(all_x),np.array(all_ecdf))\n",
    "        else:\n",
    "            cur_comb_all_x,cur_comb_ecdf=combined_cdfs_tmbs[path]\n",
    "            combined_cdfs_tmbs[path]=(np.concatenate([cur_comb_all_x,all_x],axis=0),\n",
    "                                      np.concatenate([cur_comb_ecdf,np.array(all_ecdf)]))\n",
    "    del cdata\n",
    "    print()\n",
    "    \n",
    "all_ind=tcga_data.tcga_spec_by_all_genes_wmod.index\n",
    "array2use=tcga_data.tcga_spec_by_all_genes_wmod\n",
    "snv_df=tcga_data.tcga_snv_indel_df\n",
    "\n",
    "\n",
    "ddr_path_bigbets=pd.DataFrame()\n",
    "for path in combined_mean_tmbs.keys():\n",
    "    mean_tmbs=combined_mean_tmbs[path]\n",
    "    genes=bigbets.ddr_data_object.myddr_obj.path_2_genes_dict[path]\n",
    "    ctmbs=bigbets.bipartite_helper_functions.get_tmb_values_genes(genes,array2use,snv_indel_df=snv_df)\n",
    "    ctmbs=ctmbs.to_frame(name='tmb')\n",
    "    ctmbs['sample']=ctmbs.index\n",
    "    ctmbs['path']=path\n",
    "    ctmbs.index=np.arange(ctmbs.shape[0])\n",
    "#     path_tmb_vals=pd.concat([path_tmb_vals,ctmbs])\n",
    "    ddr_path_bigbets.loc[path,['MWU_stat','MWU_pval']]=bigbets.bipartite_helper_functions.cal_mwu_pval(genes,array2use,\n",
    "                                                              outgroup=all_ind,\n",
    "                                                              snv_indel_df=snv_df)\n",
    "    obs_mean_tmb=np.mean(np.log1p(ctmbs['tmb']))\n",
    "    zscore=stats.mstats.zscore(np.append(mean_tmbs,obs_mean_tmb))[-1]\n",
    "    ddr_path_bigbets.loc[path,'bigbets']=zscore\n",
    "    ddr_path_bigbets.loc[path,'path']=path\n",
    "\n",
    "ddr_path_bigbets['-1og10_MWU']=-1*np.log10(ddr_path_bigbets['MWU_pval'])\n",
    "ddr_path_bigbets['pval_bigbets']=stats.norm.sf(abs(ddr_path_bigbets['bigbets'])) #one-sided\n",
    "_,ddr_path_bigbets['padj_tcga'],_,_ = sm.stats.multipletests(alpha=.05,pvals=ddr_path_bigbets['pval_bigbets'],method='fdr_bh')\n",
    "\n",
    "ddr_path_bigbets.to_csv(os.path.join(bigbets.file_locations.bipartite_samples_dir,'tcga_allgenes_moderate_high_path_rewiring_zscores.csv'))\n"
   ]
  },
  {
   "cell_type": "markdown",
   "metadata": {},
   "source": [
    "### TCGA filtered to subtypes represented in Samstein"
   ]
  },
  {
   "cell_type": "code",
   "execution_count": 11,
   "metadata": {
    "ExecuteTime": {
     "end_time": "2021-12-18T18:26:14.650351Z",
     "start_time": "2021-12-18T18:24:53.144006Z"
    }
   },
   "outputs": [
    {
     "name": "stderr",
     "output_type": "stream",
     "text": [
      "2021-12-18 13:24:53,147:bigbets.load_tcga_dataset:INFO:Loading TCGA Clinical data\n",
      "../bigbets/load_clinical_datasets.py:65: SettingWithCopyWarning: \n",
      "A value is trying to be set on a copy of a slice from a DataFrame\n",
      "\n",
      "See the caveats in the documentation: https://pandas.pydata.org/pandas-docs/stable/user_guide/indexing.html#returning-a-view-versus-a-copy\n",
      "  ddr_bigbets_filt_df.sort_values(by='bigbets', inplace=True)\n",
      "2021-12-18 13:26:10,781:root:INFO:BER 56\n",
      "2021-12-18 13:26:10,855:root:INFO:NER 112\n",
      "2021-12-18 13:26:10,930:root:INFO:MMR 204\n",
      "2021-12-18 13:26:11,004:root:INFO:FA 141\n",
      "2021-12-18 13:26:11,081:root:INFO:HR 402\n",
      "2021-12-18 13:26:11,155:root:INFO:NHEJ 175\n",
      "2021-12-18 13:26:11,233:root:INFO:DS 305\n",
      "2021-12-18 13:26:11,369:root:INFO:histone_modification_pathway 2381\n",
      "2021-12-18 13:26:11,536:root:INFO:chromatin_remodel 2879\n"
     ]
    }
   ],
   "source": [
    "#TCGA filtered down to samstein cancer types \n",
    "tcga_data=bigbets.TCGA_Data()\n",
    "tcga_data.get_cancer_types_filtered()\n",
    "\n",
    "data_array=tcga_data.spec_by_genes_type_filt\n",
    "samples=data_array.index.values\n",
    "features=data_array.columns.values\n",
    "data_array=sparse.lil_matrix(data_array.values)\n",
    "\n",
    "tcga_snv_indel_df=tcga_data.tcga_snv_indel_df\n",
    "path_2_genes=bigbets.ddr_data_object.myddr_obj.path_2_genes_dict\n",
    "gene_2_path_dict=bigbets.ddr_data_object.myddr_obj.gene_2_path_dict\n",
    "\n"
   ]
  },
  {
   "cell_type": "code",
   "execution_count": 10,
   "metadata": {
    "ExecuteTime": {
     "end_time": "2021-12-18T18:24:00.831920Z",
     "start_time": "2021-12-18T18:24:00.826516Z"
    }
   },
   "outputs": [],
   "source": [
    "bipartite_samples_dir=bigbets.file_locations.bipartite_samples_dir\n",
    "samstein_filt_tcga=os.path.join(bipartite_samples_dir,'sampled_data/tcga_samstein_cancer_types')\n",
    "samfilt_runs=os.path.join(samstein_filt_tcga,\"smaller_runs_300\")"
   ]
  },
  {
   "cell_type": "code",
   "execution_count": 81,
   "metadata": {
    "ExecuteTime": {
     "end_time": "2021-12-09T18:22:00.590812Z",
     "start_time": "2021-12-09T18:21:59.740487Z"
    }
   },
   "outputs": [
    {
     "data": {
      "text/plain": [
       "(4779, 18224)"
      ]
     },
     "execution_count": 81,
     "metadata": {},
     "output_type": "execute_result"
    }
   ],
   "source": [
    "#Code below runs the bipartite network sampling.  Was executed on desktop with 8 cores running. \n",
    "#run parallel chains in smaller chunks and save output as we go. \n",
    "#define function\n",
    "\n",
    "def get_tmb_dist_tcga(mat,samples,features):\n",
    "    return bigbets.get_tmb_dist_both_path_and_genes(mat,samples,features,\n",
    "                                                     tcga_snv_indel_df, path_2_genes)\n",
    "\n",
    "tot_edges=np.sum(np.sum(data_array))\n",
    "print(tot_edges)\n",
    "samplesperrun=300\n",
    "\n",
    "\n",
    "prefix='tgca_samstein_cancer_types_high_wpolyphen_{:d}_{:d}'\n",
    "for i in range(4):\n",
    "    print(\"on loop \",i)\n",
    "    parallel_rewire=bigbets.ParallelRewiringChains(array=data_array,samples=samples,\n",
    "                                                      features=features,\n",
    "                                                      burninwires=300000,\n",
    "                                                      nrewires_per_sample=300000,\n",
    "                                                      func2call=get_tmb_dist_tcga,\n",
    "                                                      nprocesses=8,nsamples=samplesperrun)\n",
    "    parallel_rewire.run_allchains()\n",
    "    data_path=bigbets.bipartite_helper_functions.compile_all_runs(pd.DataFrame({ k: val['paths'] for k,val in parallel_rewire.all_res.items()}))\n",
    "    data_genes=bigbets.bipartite_helper_functions.compile_all_runs(pd.DataFrame({ k: val['genes'] for k,val in parallel_rewire.all_res.items()}))\n",
    "\n",
    "    variables_2_save=['data_path','data_genes']\n",
    "\n",
    "    if not os.path.exists(samfilt_runs):\n",
    "        os.makedirs(samfilt_runs)\n",
    "  \n",
    "    for var in variables_2_save:\n",
    "        outfile=os.path.join(samfilt_runs,prefix.format(samplesperrun,i)+var+\".pickle\")\n",
    "        with gzip.open(outfile,'wb') as fh:\n",
    "            pickle.dump(globals()[var],fh)\n",
    "\n",
    "    del parallel_rewire\n",
    "    del data_genes\n",
    "    del data_path"
   ]
  },
  {
   "cell_type": "code",
   "execution_count": 11,
   "metadata": {
    "ExecuteTime": {
     "end_time": "2021-12-13T12:18:24.378263Z",
     "start_time": "2021-12-13T12:14:19.965537Z"
    }
   },
   "outputs": [
    {
     "name": "stdout",
     "output_type": "stream",
     "text": [
      "0\n",
      "0, 1000, 2000, 3000, 4000, 5000, 6000, 7000, 8000, 9000, 10000, 11000, 12000, 13000, 14000, 15000, 16000, 17000, \n",
      "1\n",
      "0, 1000, 2000, 3000, 4000, 5000, 6000, 7000, 8000, 9000, 10000, 11000, 12000, 13000, 14000, 15000, 16000, 17000, \n",
      "2\n",
      "0, 1000, 2000, 3000, 4000, 5000, 6000, 7000, 8000, 9000, 10000, 11000, 12000, 13000, 14000, 15000, 16000, 17000, \n",
      "3\n",
      "0, 1000, 2000, 3000, 4000, 5000, 6000, 7000, 8000, 9000, 10000, 11000, 12000, 13000, 14000, 15000, 16000, 17000, \n",
      "0, 1000, 2000, 3000, 4000, 5000, 6000, 7000, 8000, 9000, 10000, 11000, 12000, 13000, 14000, 15000, 16000, 17000, "
     ]
    }
   ],
   "source": [
    "combined_med_tmb=compile_all_runs(samfilt_runs)\n",
    "means_rewiring_df=calculate_bigbet_scores_dataframe(combined_med_tmb,tcga_data.spec_by_genes_type_filt,\n",
    "                                                   tcga_data.tcga_snv_indel_df)\n",
    "means_rewiring_df.to_csv(os.path.join(bigbets.file_locations.bipartite_samples_dir,\n",
    "                                      'tcga_filter_samstein_cancertypes_rewiring_zscores.csv'))"
   ]
  },
  {
   "cell_type": "code",
   "execution_count": 14,
   "metadata": {
    "ExecuteTime": {
     "end_time": "2021-12-18T18:26:34.492387Z",
     "start_time": "2021-12-18T18:26:33.193366Z"
    }
   },
   "outputs": [
    {
     "name": "stdout",
     "output_type": "stream",
     "text": [
      "0\n",
      "BER, NER, MMR, FA, HR, NHEJ, DS, histone_modification_pathway, chromatin_remodel, \n",
      "1\n",
      "BER, NER, MMR, FA, HR, NHEJ, DS, histone_modification_pathway, chromatin_remodel, \n",
      "2\n",
      "BER, NER, MMR, FA, HR, NHEJ, DS, histone_modification_pathway, chromatin_remodel, \n",
      "3\n",
      "BER, NER, MMR, FA, HR, NHEJ, DS, histone_modification_pathway, chromatin_remodel, \n"
     ]
    }
   ],
   "source": [
    "# combined pathway level individual runs\n",
    "combined_path_data={}\n",
    "\n",
    "# load individual runs\n",
    "data_files_path=[ os.path.join(samfilt_runs,f) for f in os.listdir(samfilt_runs) if re.search(\"path.pickle\",f)]\n",
    "\n",
    "#we keep track of the mean tmb for each gene and each sample across all runs\n",
    "combined_cdfs_tmbs={}\n",
    "combined_mean_tmbs={}\n",
    "# ind2keep=drop_leading_inds(200,8,20)\n",
    "for i,file in enumerate(data_files_path):\n",
    "    print(i)\n",
    "    with gzip.open(file,'rb') as fh:\n",
    "        cdata=pickle.load(fh)\n",
    "    for path in cdata.keys():\n",
    "        print(path,end=', ')\n",
    "        all_x,all_ecdf=cdata.loc[path]\n",
    "        cmean_tmbs=[np.mean(x) for x in all_x] \n",
    "        combined_mean_tmbs[path]=combined_mean_tmbs.get(path,[])+cmean_tmbs\n",
    "        if i==0:\n",
    "            combined_cdfs_tmbs[path]=(np.array(all_x),np.array(all_ecdf))\n",
    "        else:\n",
    "            cur_comb_all_x,cur_comb_ecdf=combined_cdfs_tmbs[path]\n",
    "            combined_cdfs_tmbs[path]=(np.concatenate([cur_comb_all_x,all_x],axis=0),\n",
    "                                      np.concatenate([cur_comb_ecdf,np.array(all_ecdf)]))\n",
    "    del cdata\n",
    "    print()\n",
    "    \n",
    "all_ind=tcga_data.spec_by_genes_type_filt.index\n",
    "array2use=tcga_data.spec_by_genes_type_filt\n",
    "snv_df=tcga_data.tcga_snv_indel_df\n",
    "\n",
    "\n",
    "ddr_path_bigbets=pd.DataFrame()\n",
    "for path in combined_mean_tmbs.keys():\n",
    "    mean_tmbs=combined_mean_tmbs[path]\n",
    "    genes=bigbets.ddr_data_object.myddr_obj.path_2_genes_dict[path]\n",
    "    ctmbs=bigbets.bipartite_helper_functions.get_tmb_values_genes(genes,array2use,snv_indel_df=snv_df)\n",
    "    ctmbs=ctmbs.to_frame(name='tmb')\n",
    "    ctmbs['sample']=ctmbs.index\n",
    "    ctmbs['path']=path\n",
    "    ctmbs.index=np.arange(ctmbs.shape[0])\n",
    "#     path_tmb_vals=pd.concat([path_tmb_vals,ctmbs])\n",
    "    ddr_path_bigbets.loc[path,['MWU_stat','MWU_pval']]=bigbets.bipartite_helper_functions.cal_mwu_pval(genes,array2use,\n",
    "                                                              outgroup=all_ind,\n",
    "                                                              snv_indel_df=snv_df)\n",
    "    obs_mean_tmb=np.mean(np.log1p(ctmbs['tmb']))\n",
    "    zscore=stats.mstats.zscore(np.append(mean_tmbs,obs_mean_tmb))[-1]\n",
    "    ddr_path_bigbets.loc[path,'bigbets']=zscore\n",
    "    ddr_path_bigbets.loc[path,'path']=path\n",
    "\n",
    "ddr_path_bigbets['-1og10_MWU']=-1*np.log10(ddr_path_bigbets['MWU_pval'])\n",
    "ddr_path_bigbets['pval_bigbets']=stats.norm.sf(abs(ddr_path_bigbets['bigbets'])) #one-sided\n",
    "_,ddr_path_bigbets['padj_tcga'],_,_ = sm.stats.multipletests(alpha=.05,pvals=ddr_path_bigbets['pval_bigbets'],method='fdr_bh')\n",
    "\n",
    "ddr_path_bigbets.to_csv(os.path.join(bigbets.file_locations.bipartite_samples_dir,'tcga_cancer_type_filt_path_rewiring_zscores.csv'))\n"
   ]
  },
  {
   "cell_type": "markdown",
   "metadata": {},
   "source": [
    "## Samstein "
   ]
  },
  {
   "cell_type": "code",
   "execution_count": 4,
   "metadata": {
    "ExecuteTime": {
     "end_time": "2021-12-08T14:28:39.813432Z",
     "start_time": "2021-12-08T14:28:29.777624Z"
    }
   },
   "outputs": [
    {
     "name": "stderr",
     "output_type": "stream",
     "text": [
      "2021-12-08 09:28:29,779:root:INFO:Loading Samstein clinical data\n",
      "/opt/local/Library/Frameworks/Python.framework/Versions/3.6/lib/python3.6/site-packages/ipykernel_launcher.py:1: DtypeWarning: Columns (47,85) have mixed types.Specify dtype option on import or set low_memory=False.\n",
      "  \"\"\"Entry point for launching an IPython kernel.\n"
     ]
    },
    {
     "name": "stdout",
     "output_type": "stream",
     "text": [
      "querying 1-469...done.\n",
      "Finished.\n",
      "29 input query terms found no hit:\n",
      "\t['PARK2', 'HIST1H1C', 'FAM46C', 'HIST1H3B', 'HIST1H3A', 'FAM175A', 'RFWD2', 'PAK7', 'WHSC1L1', 'WHSC\n",
      "querying 1-29...done.\n"
     ]
    },
    {
     "name": "stderr",
     "output_type": "stream",
     "text": [
      "2021-12-08 09:28:34,328:root:INFO:Loading Samstein clinical data\n"
     ]
    },
    {
     "name": "stdout",
     "output_type": "stream",
     "text": [
      "Finished.\n",
      "3 input query terms found dup hits:\n",
      "\t[('PARK2', 4), ('WHSC1L1', 2), ('HIST1H2BD', 2)]\n",
      "2 input query terms found no hit:\n",
      "\t['RP11-145E5.5', 'RP11-211G3.3']\n"
     ]
    },
    {
     "name": "stderr",
     "output_type": "stream",
     "text": [
      "../bigbets/load_clinical_datasets.py:65: SettingWithCopyWarning: \n",
      "A value is trying to be set on a copy of a slice from a DataFrame\n",
      "\n",
      "See the caveats in the documentation: https://pandas.pydata.org/pandas-docs/stable/user_guide/indexing.html#returning-a-view-versus-a-copy\n",
      "  ddr_bigbets_filt_df.sort_values(by='bigbets', inplace=True)\n",
      "2021-12-08 09:28:39,747:root:INFO:BER 27\n",
      "2021-12-08 09:28:39,753:root:INFO:NER 156\n",
      "2021-12-08 09:28:39,760:root:INFO:MMR 141\n",
      "2021-12-08 09:28:39,766:root:INFO:FA 49\n",
      "2021-12-08 09:28:39,773:root:INFO:HR 277\n",
      "2021-12-08 09:28:39,780:root:INFO:NHEJ 0\n",
      "2021-12-08 09:28:39,787:root:INFO:DS 223\n",
      "2021-12-08 09:28:39,795:root:INFO:histone_modification_pathway 786\n",
      "2021-12-08 09:28:39,805:root:INFO:chromatin_remodel 815\n"
     ]
    }
   ],
   "source": [
    "samstein=bigbets.SamsteinData()\n",
    "\n",
    "bipartite_samples_dir=bigbets.file_locations.bipartite_samples_dir\n",
    "samstein_samples_dir=os.path.join(bipartite_samples_dir,'sampled_data/samstein')\n",
    "samstein_runs=os.path.join(samstein_samples_dir,\"smaller_runs_300\")\n",
    "if not os.path.exists(samstein_runs):\n",
    "    os.makedirs(samstein_runs)"
   ]
  },
  {
   "cell_type": "code",
   "execution_count": 6,
   "metadata": {
    "ExecuteTime": {
     "end_time": "2021-12-08T14:29:29.032124Z",
     "start_time": "2021-12-08T14:29:29.007237Z"
    }
   },
   "outputs": [],
   "source": [
    "data_array=samstein.spec_by_genes\n",
    "samples=data_array.index.values\n",
    "features=data_array.columns.values\n",
    "data_array=sparse.lil_matrix(data_array.values)\n",
    "samstein_tmb_df=samstein.clinical_data.loc[:,['TMB']].rename({\"TMB\":'tmb'},axis=1)\n",
    "path_2_genes=bigbets.ddr_data_object.myddr_obj.path_2_genes_dict\n",
    "# samstein_tmb_df['tmb']=samstein_tmb_df['TMB']"
   ]
  },
  {
   "cell_type": "code",
   "execution_count": null,
   "metadata": {},
   "outputs": [],
   "source": [
    "#Code below runs the bipartite network sampling.  Was executed on desktop with 8 cores running. \n",
    "#run parallel chains in smaller chunks and save output as we go. \n",
    "#define function\n",
    "\n",
    "def get_tmb_dist_samstein(mat,samples,features):\n",
    "    return bigbets.get_tmb_dist_both_path_and_genes(mat,samples,features,\n",
    "                                                       samstein_tmb_df, path_2_genes)\n",
    "\n",
    "tot_edges=np.sum(np.sum(data_array))\n",
    "print(tot_edges)\n",
    "samplesperrun=300\n",
    "\n",
    "\n",
    "prefix='samstein_all_{:d}_{:d}'\n",
    "for i in range(10):\n",
    "    print(\"on loop \",i)\n",
    "    parallel_rewire=bigbets.ParallelRewiringChains(array=data_array,samples=samples,\n",
    "                                                      features=features,\n",
    "                                                      burninwires=50000,\n",
    "                                                      nrewires_per_sample=50000,\n",
    "                                                      func2call=get_tmb_dist_samstein,\n",
    "                                                      nprocesses=8,nsamples=samplesperrun)\n",
    "    parallel_rewire.run_allchains()\n",
    "    data_path=bigbets.bipartite_helper_functions.compile_all_runs(pd.DataFrame({ k: val['paths'] for k,val in parallel_rewire.all_res.items()}))\n",
    "    data_genes=bigbets.bipartite_helper_functions.compile_all_runs(pd.DataFrame({ k: val['genes'] for k,val in parallel_rewire.all_res.items()}))\n",
    "\n",
    "    variables_2_save=['data_path','data_genes']\n",
    "\n",
    "    if not os.path.exists(samstein_runs):\n",
    "        os.makedirs(samstein_runs)\n",
    "  \n",
    "    for var in variables_2_save:\n",
    "        outfile=os.path.join(samstein_runs,prefix.format(samplesperrun,i)+var+\".pickle\")\n",
    "        with gzip.open(outfile,'wb') as fh:\n",
    "            pickle.dump(globals()[var],fh)\n",
    "\n",
    "    del parallel_rewire\n",
    "    del data_genes\n",
    "    del data_path"
   ]
  },
  {
   "cell_type": "code",
   "execution_count": 10,
   "metadata": {
    "ExecuteTime": {
     "end_time": "2021-12-13T12:14:19.961210Z",
     "start_time": "2021-12-13T12:11:53.983961Z"
    },
    "scrolled": true
   },
   "outputs": [
    {
     "name": "stdout",
     "output_type": "stream",
     "text": [
      "0, 1000, 2000, 3000, 4000, 5000, 6000, 7000, 8000, 9000, 10000, 11000, 12000, 13000, 14000, 15000, 16000, 17000, "
     ]
    }
   ],
   "source": [
    "combined_med_tmb=compile_all_runs(samstein_runs)\n",
    "means_rewiring_df=calculate_bigbet_scores_dataframe(combined_med_tmb,samstein.spec_by_genes,\n",
    "                                                   samstein_tmb_df)"
   ]
  },
  {
   "cell_type": "code",
   "execution_count": 10,
   "metadata": {
    "ExecuteTime": {
     "end_time": "2021-12-08T14:31:01.172912Z",
     "start_time": "2021-12-08T14:31:01.139740Z"
    }
   },
   "outputs": [
    {
     "data": {
      "text/html": [
       "<div>\n",
       "<style scoped>\n",
       "    .dataframe tbody tr th:only-of-type {\n",
       "        vertical-align: middle;\n",
       "    }\n",
       "\n",
       "    .dataframe tbody tr th {\n",
       "        vertical-align: top;\n",
       "    }\n",
       "\n",
       "    .dataframe thead th {\n",
       "        text-align: right;\n",
       "    }\n",
       "</style>\n",
       "<table border=\"1\" class=\"dataframe\">\n",
       "  <thead>\n",
       "    <tr style=\"text-align: right;\">\n",
       "      <th></th>\n",
       "      <th>gene_mut_cnt</th>\n",
       "      <th>obs_tmb</th>\n",
       "      <th>mean</th>\n",
       "      <th>std</th>\n",
       "      <th>upper</th>\n",
       "      <th>lower</th>\n",
       "      <th>bigbets</th>\n",
       "      <th>mwu_U</th>\n",
       "      <th>mwu_pval</th>\n",
       "      <th>path</th>\n",
       "      <th>pval_bigbets</th>\n",
       "      <th>padj_bigbets</th>\n",
       "      <th>mwu_sig</th>\n",
       "      <th>mwu_padj</th>\n",
       "      <th>-log10_padj</th>\n",
       "    </tr>\n",
       "  </thead>\n",
       "  <tbody>\n",
       "    <tr>\n",
       "      <th>ABL1</th>\n",
       "      <td>29.0</td>\n",
       "      <td>3.625677</td>\n",
       "      <td>3.257120</td>\n",
       "      <td>0.185383</td>\n",
       "      <td>3.620470</td>\n",
       "      <td>2.893769</td>\n",
       "      <td>1.984813</td>\n",
       "      <td>41045.0</td>\n",
       "      <td>5.401603e-13</td>\n",
       "      <td>None</td>\n",
       "      <td>0.023583</td>\n",
       "      <td>0.117411</td>\n",
       "      <td>True</td>\n",
       "      <td>2.217500e-12</td>\n",
       "      <td>11.654136</td>\n",
       "    </tr>\n",
       "    <tr>\n",
       "      <th>ABRAXAS1</th>\n",
       "      <td>10.0</td>\n",
       "      <td>3.258174</td>\n",
       "      <td>3.313410</td>\n",
       "      <td>0.329290</td>\n",
       "      <td>3.958818</td>\n",
       "      <td>2.668001</td>\n",
       "      <td>-0.167685</td>\n",
       "      <td>13063.0</td>\n",
       "      <td>2.694236e-04</td>\n",
       "      <td>None</td>\n",
       "      <td>0.433416</td>\n",
       "      <td>0.490397</td>\n",
       "      <td>True</td>\n",
       "      <td>3.719477e-04</td>\n",
       "      <td>3.429518</td>\n",
       "    </tr>\n",
       "    <tr>\n",
       "      <th>ACVR1</th>\n",
       "      <td>17.0</td>\n",
       "      <td>3.533956</td>\n",
       "      <td>3.289151</td>\n",
       "      <td>0.243071</td>\n",
       "      <td>3.765570</td>\n",
       "      <td>2.812731</td>\n",
       "      <td>1.006459</td>\n",
       "      <td>22822.0</td>\n",
       "      <td>7.037960e-07</td>\n",
       "      <td>None</td>\n",
       "      <td>0.157097</td>\n",
       "      <td>0.326763</td>\n",
       "      <td>True</td>\n",
       "      <td>1.401602e-06</td>\n",
       "      <td>5.853375</td>\n",
       "    </tr>\n",
       "    <tr>\n",
       "      <th>AGO2</th>\n",
       "      <td>9.0</td>\n",
       "      <td>3.063537</td>\n",
       "      <td>3.306596</td>\n",
       "      <td>0.339075</td>\n",
       "      <td>3.971183</td>\n",
       "      <td>2.642008</td>\n",
       "      <td>-0.716467</td>\n",
       "      <td>11758.5</td>\n",
       "      <td>5.092791e-04</td>\n",
       "      <td>None</td>\n",
       "      <td>0.236852</td>\n",
       "      <td>0.390305</td>\n",
       "      <td>True</td>\n",
       "      <td>6.790388e-04</td>\n",
       "      <td>3.168105</td>\n",
       "    </tr>\n",
       "    <tr>\n",
       "      <th>AKT1</th>\n",
       "      <td>23.0</td>\n",
       "      <td>3.224658</td>\n",
       "      <td>3.281819</td>\n",
       "      <td>0.209348</td>\n",
       "      <td>3.692140</td>\n",
       "      <td>2.871498</td>\n",
       "      <td>-0.272944</td>\n",
       "      <td>29741.0</td>\n",
       "      <td>1.778459e-07</td>\n",
       "      <td>None</td>\n",
       "      <td>0.392448</td>\n",
       "      <td>0.473365</td>\n",
       "      <td>True</td>\n",
       "      <td>3.783267e-07</td>\n",
       "      <td>6.422133</td>\n",
       "    </tr>\n",
       "  </tbody>\n",
       "</table>\n",
       "</div>"
      ],
      "text/plain": [
       "          gene_mut_cnt   obs_tmb      mean       std     upper     lower  \\\n",
       "ABL1              29.0  3.625677  3.257120  0.185383  3.620470  2.893769   \n",
       "ABRAXAS1          10.0  3.258174  3.313410  0.329290  3.958818  2.668001   \n",
       "ACVR1             17.0  3.533956  3.289151  0.243071  3.765570  2.812731   \n",
       "AGO2               9.0  3.063537  3.306596  0.339075  3.971183  2.642008   \n",
       "AKT1              23.0  3.224658  3.281819  0.209348  3.692140  2.871498   \n",
       "\n",
       "           bigbets    mwu_U      mwu_pval  path  pval_bigbets  padj_bigbets  \\\n",
       "ABL1      1.984813  41045.0  5.401603e-13  None      0.023583      0.117411   \n",
       "ABRAXAS1 -0.167685  13063.0  2.694236e-04  None      0.433416      0.490397   \n",
       "ACVR1     1.006459  22822.0  7.037960e-07  None      0.157097      0.326763   \n",
       "AGO2     -0.716467  11758.5  5.092791e-04  None      0.236852      0.390305   \n",
       "AKT1     -0.272944  29741.0  1.778459e-07  None      0.392448      0.473365   \n",
       "\n",
       "          mwu_sig      mwu_padj  -log10_padj  \n",
       "ABL1         True  2.217500e-12    11.654136  \n",
       "ABRAXAS1     True  3.719477e-04     3.429518  \n",
       "ACVR1        True  1.401602e-06     5.853375  \n",
       "AGO2         True  6.790388e-04     3.168105  \n",
       "AKT1         True  3.783267e-07     6.422133  "
      ]
     },
     "execution_count": 10,
     "metadata": {},
     "output_type": "execute_result"
    }
   ],
   "source": [
    "    means_rewiring_df['pval_bigbets'] = stats.norm.sf(abs(means_rewiring_df['bigbets'])) #one-sided\n",
    "    _,means_rewiring_df['padj_bigbets'],_,_ = sm.stats.multipletests(alpha=.05,pvals=means_rewiring_df['pval_bigbets'],method='fdr_bh')"
   ]
  }
 ],
 "metadata": {
  "kernelspec": {
   "display_name": "Python 3",
   "language": "python",
   "name": "python3"
  },
  "language_info": {
   "codemirror_mode": {
    "name": "ipython",
    "version": 3
   },
   "file_extension": ".py",
   "mimetype": "text/x-python",
   "name": "python",
   "nbconvert_exporter": "python",
   "pygments_lexer": "ipython3",
   "version": "3.6.8"
  },
  "latex_envs": {
   "LaTeX_envs_menu_present": true,
   "autoclose": false,
   "autocomplete": false,
   "bibliofile": "biblio.bib",
   "cite_by": "apalike",
   "current_citInitial": 1,
   "eqLabelWithNumbers": true,
   "eqNumInitial": 1,
   "hotkeys": {
    "equation": ""
   },
   "labels_anchors": false,
   "latex_user_defs": false,
   "report_style_numbering": false,
   "user_envs_cfg": false
  },
  "toc": {
   "base_numbering": 1,
   "nav_menu": {},
   "number_sections": true,
   "sideBar": true,
   "skip_h1_title": false,
   "title_cell": "Table of Contents",
   "title_sidebar": "Contents",
   "toc_cell": true,
   "toc_position": {},
   "toc_section_display": true,
   "toc_window_display": true
  }
 },
 "nbformat": 4,
 "nbformat_minor": 4
}
